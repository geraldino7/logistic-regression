{
 "cells": [
  {
   "cell_type": "markdown",
   "metadata": {},
   "source": [
    "# Logistic Regression Implementation From Scratch in Python"
   ]
  },
  {
   "cell_type": "code",
   "execution_count": 1,
   "metadata": {},
   "outputs": [],
   "source": [
    "# load libaries\n",
    "import numpy as np"
   ]
  },
  {
   "cell_type": "code",
   "execution_count": 2,
   "metadata": {},
   "outputs": [],
   "source": [
    "class LogisticRegression:\n",
    "\n",
    "    \"\"\"Initialize Model Properties\n",
    "\n",
    "    Set learning rate and number of iterations for training the model.\n",
    "    \"\"\"\n",
    "\n",
    "    def __init__(self, learning_rate=.001, iteration=10000):\n",
    "        self.learning_rate = learning_rate\n",
    "        self.iteration = iteration\n",
    "\n",
    "    \"\"\" Predict the target using Sigmoid Function\n",
    "    \n",
    "    This method is used to calculate the target value using features and coefficients.\n",
    "    \n",
    "    \"\"\"\n",
    "\n",
    "    def hypothesis(self, features, coefficient):\n",
    "        y = np.dot(features, coefficient)\n",
    "        return 1.0/(1+np.exp(-y))\n",
    "\n",
    "    \"\"\"Calculate Loss Error\n",
    "    \n",
    "    Formula:\n",
    "    \n",
    "    loss_error = -Y * log( h(x) ) - (1-Y) * log( 1- h(x) )\n",
    "\n",
    "    Here -\n",
    "\n",
    "    h(x) - Value return by Sigmoid function.\n",
    "\n",
    "    \"\"\"\n",
    "    def cost_function(self, features, target, coefficient):\n",
    "        hypothesis = self.hypothesis(features, coefficient)\n",
    "        part1 = target * np.log(hypothesis)\n",
    "        part2 = (1-target).T * np.log((1-hypothesis))\n",
    "        loss_error = np.mean(-part1 - part2)\n",
    "        return loss_error\n",
    "\n",
    "    \"\"\"Calculate gradient decent to minimize the output given by cost function\n",
    "    \n",
    "    Formula:\n",
    "\n",
    "    gradient = features * (h(x) - target) \n",
    "    \"\"\"\n",
    "\n",
    "    def gradient_decent(self, features, target, coefficient):\n",
    "        size = target.size\n",
    "        hypothesis = self.hypothesis(features, coefficient)\n",
    "        gradient = np.dot(features.T, (hypothesis - target))\n",
    "        return gradient/size\n",
    "\n",
    "    \"\"\"Append feature0 matrix to the features\n",
    "    \n",
    "    This function append feature0 = 1 matrix to the features.\n",
    "    \"\"\"\n",
    "    def add_intercept(self, features):\n",
    "        feature0 = np.ones((features.shape[0], 1))\n",
    "        features = np.concatenate((feature0, features), axis=1)\n",
    "        return features\n",
    "\n",
    "    \"\"\"Calculate Appropriate Coefficient Values\n",
    "    \n",
    "    This method calculates appropriate coefficient values by minimizing the cost function\n",
    "    \"\"\"\n",
    "\n",
    "    def fit(self, features, target):\n",
    "        features = self.add_intercept(features)\n",
    "        coefficient = np.zeros(features.shape[1])\n",
    "        target = target\n",
    "        loss_error = 10000\n",
    "        iteration = 1\n",
    "        while iteration < self.iteration:\n",
    "            gradient = self.gradient_decent(features, target, coefficient)\n",
    "            coefficient = coefficient - self.learning_rate * gradient\n",
    "            loss_error = self.cost_function(features, target, coefficient)\n",
    "            #print(\"Loss Error %s for Iteration %d\" % (loss_error, iteration))\n",
    "            iteration = iteration + 1\n",
    "        self.coefficient = coefficient\n",
    "\n",
    "    \"\"\" Calculate Probablity using Sigmoid Function\n",
    "    \n",
    "    This method is used to calculate the probablity using Sigmoid function.\n",
    "    \"\"\"\n",
    "    def predict_prob(self, features):\n",
    "        features = np.array(features)\n",
    "        features = self.add_intercept(features)\n",
    "        # y = 1/1+e(-BX)\n",
    "        y = self.hypothesis(features, self.coefficient)\n",
    "        return y\n",
    "\n",
    "    \"\"\"Predict Target Values Using Features\n",
    "    \n",
    "    We assume that class is 1 (True) if probablity given by predict_prob is greater than thresold \n",
    "    \"\"\"\n",
    "    def predict(self, features, threshold):\n",
    "        return self.predict_prob(features) >= threshold\n"
   ]
  },
  {
   "cell_type": "markdown",
   "metadata": {},
   "source": [
    "## How to Use"
   ]
  },
  {
   "cell_type": "code",
   "execution_count": 3,
   "metadata": {},
   "outputs": [],
   "source": [
    "# Features\n",
    "features = np.array([[1], [2], [3], [4], [5], [6], [7], [8], [9], [10]])"
   ]
  },
  {
   "cell_type": "code",
   "execution_count": 4,
   "metadata": {},
   "outputs": [],
   "source": [
    "# Target - if class 0 if number <=5 and class 1 if number >5\n",
    "target = np.array([0, 0, 0, 0, 0, 1, 1, 1, 1, 1])\n"
   ]
  },
  {
   "cell_type": "code",
   "execution_count": 5,
   "metadata": {},
   "outputs": [],
   "source": [
    "# Setup LogisticRegression Model\n",
    "model = LogisticRegression(learning_rate=.1, iteration=10000)\n"
   ]
  },
  {
   "cell_type": "code",
   "execution_count": 6,
   "metadata": {},
   "outputs": [],
   "source": [
    "# Train the Model\n",
    "model.fit(features, target)\n"
   ]
  },
  {
   "cell_type": "code",
   "execution_count": 7,
   "metadata": {},
   "outputs": [],
   "source": [
    "# find out class for guess values\n",
    "guess = np.array([[3], [12], [13], [1], [2], [8], [5], [18], [4], [20]])\n"
   ]
  },
  {
   "cell_type": "code",
   "execution_count": 8,
   "metadata": {},
   "outputs": [
    {
     "name": "stdout",
     "output_type": "stream",
     "text": [
      "[False  True  True False False  True False  True False  True]\n"
     ]
    }
   ],
   "source": [
    "# Output - True if number is >5 and False if number is <=5\n",
    "print(model.predict(guess, .60))\n"
   ]
  },
  {
   "cell_type": "code",
   "execution_count": null,
   "metadata": {},
   "outputs": [],
   "source": []
  },
  {
   "cell_type": "code",
   "execution_count": null,
   "metadata": {},
   "outputs": [],
   "source": []
  }
 ],
 "metadata": {
  "kernelspec": {
   "display_name": "Python 3",
   "language": "python",
   "name": "python3"
  },
  "language_info": {
   "codemirror_mode": {
    "name": "ipython",
    "version": 3
   },
   "file_extension": ".py",
   "mimetype": "text/x-python",
   "name": "python",
   "nbconvert_exporter": "python",
   "pygments_lexer": "ipython3",
   "version": "3.6.7"
  }
 },
 "nbformat": 4,
 "nbformat_minor": 2
}
